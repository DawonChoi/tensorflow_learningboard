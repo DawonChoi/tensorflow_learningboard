{
  "nbformat": 4,
  "nbformat_minor": 0,
  "metadata": {
    "colab": {
      "name": "tensorflow learningboard.ipynb",
      "provenance": [],
      "collapsed_sections": [],
      "authorship_tag": "ABX9TyOWkFLVi5zC9xkr+hjsPDH7",
      "include_colab_link": true
    },
    "kernelspec": {
      "name": "python3",
      "display_name": "Python 3"
    }
  },
  "cells": [
    {
      "cell_type": "markdown",
      "metadata": {
        "id": "view-in-github",
        "colab_type": "text"
      },
      "source": [
        "<a href=\"https://colab.research.google.com/github/DawonChoi/tensorflow_learningboard/blob/master/tensorflow_learningboard.ipynb\" target=\"_parent\"><img src=\"https://colab.research.google.com/assets/colab-badge.svg\" alt=\"Open In Colab\"/></a>"
      ]
    },
    {
      "cell_type": "code",
      "metadata": {
        "id": "HpD_9H-wmULi",
        "colab_type": "code",
        "colab": {
          "base_uri": "https://localhost:8080/",
          "height": 35
        },
        "outputId": "c1ab418e-ab3d-4e3b-c07c-6efb15fc0d03"
      },
      "source": [
        "import tensorflow as tf   \n",
        "print(tf.__version__)"
      ],
      "execution_count": null,
      "outputs": [
        {
          "output_type": "stream",
          "text": [
            "2.2.0\n"
          ],
          "name": "stdout"
        }
      ]
    },
    {
      "cell_type": "markdown",
      "metadata": {
        "id": "HvzL4F7nnaSv",
        "colab_type": "text"
      },
      "source": [
        "# 균일 분포 1x1 랜덤데이터(0~1 실수) uniform(shape, min, max)\n"
      ]
    },
    {
      "cell_type": "code",
      "metadata": {
        "id": "jW0TrILBmxyW",
        "colab_type": "code",
        "colab": {
          "base_uri": "https://localhost:8080/",
          "height": 35
        },
        "outputId": "3adf51b7-bd28-4c89-c2a2-00784c82c106"
      },
      "source": [
        "rand = tf.random.uniform([1],0,1)\n",
        "print(rand)"
      ],
      "execution_count": null,
      "outputs": [
        {
          "output_type": "stream",
          "text": [
            "tf.Tensor([0.8801912], shape=(1,), dtype=float32)\n"
          ],
          "name": "stdout"
        }
      ]
    },
    {
      "cell_type": "markdown",
      "metadata": {
        "id": "FX3QDNo1pbXH",
        "colab_type": "text"
      },
      "source": [
        "# 균일 분포 NxN 랜덤데이터(0~1 실수)"
      ]
    },
    {
      "cell_type": "code",
      "metadata": {
        "id": "T91R5WY2nMku",
        "colab_type": "code",
        "colab": {
          "base_uri": "https://localhost:8080/",
          "height": 125
        },
        "outputId": "73391368-0628-4459-c2ed-b5e0f4dda83d"
      },
      "source": [
        "rand = tf.random.uniform([5,4],0,1)\n",
        "print(rand)"
      ],
      "execution_count": null,
      "outputs": [
        {
          "output_type": "stream",
          "text": [
            "tf.Tensor(\n",
            "[[0.5067352  0.6179217  0.42204785 0.0031023 ]\n",
            " [0.17437267 0.24598527 0.43649447 0.7950444 ]\n",
            " [0.4838469  0.84667933 0.4567809  0.18198526]\n",
            " [0.46405017 0.7775221  0.31302488 0.4846034 ]\n",
            " [0.18261504 0.22556472 0.40409064 0.5648216 ]], shape=(5, 4), dtype=float32)\n"
          ],
          "name": "stdout"
        }
      ]
    },
    {
      "cell_type": "markdown",
      "metadata": {
        "id": "9Aogf58ZqLUt",
        "colab_type": "text"
      },
      "source": [
        "# 정규 분포 랜덤데이터 normal(shape, mean, standard deviation)"
      ]
    },
    {
      "cell_type": "code",
      "metadata": {
        "id": "OFu9mG42qROh",
        "colab_type": "code",
        "colab": {
          "base_uri": "https://localhost:8080/",
          "height": 35
        },
        "outputId": "e6488cd8-d058-494f-bd50-5d3b687ce2cb"
      },
      "source": [
        "normal_rand = tf.random.normal([4], 0, 1)\n",
        "print(normal_rand)"
      ],
      "execution_count": null,
      "outputs": [
        {
          "output_type": "stream",
          "text": [
            "tf.Tensor([-0.16464928  0.37768605 -1.392089    0.9149462 ], shape=(4,), dtype=float32)\n"
          ],
          "name": "stdout"
        }
      ]
    },
    {
      "cell_type": "markdown",
      "metadata": {
        "id": "P_h21VT-CZrA",
        "colab_type": "text"
      },
      "source": [
        "# 시그모이드 함수 구현"
      ]
    },
    {
      "cell_type": "code",
      "metadata": {
        "id": "uclo3gMSCcCi",
        "colab_type": "code",
        "colab": {
          "base_uri": "https://localhost:8080/",
          "height": 53
        },
        "outputId": "6ac7fad0-1257-4530-cd08-39a052ca9976"
      },
      "source": [
        "import math\n",
        "\n",
        "def sigmoid(x):\n",
        "  return 1 / (1 + math.exp(-x))\n",
        "\n",
        "x = 1\n",
        "y = 0\n",
        "w = tf.random.normal([1],0,1)\n",
        "output = sigmoid(x * w)\n",
        "print(\"실제 출력 :\",output)\n",
        "print(f\"에러(기대 출력(0) - 실제 출력) : {y-output}\")"
      ],
      "execution_count": null,
      "outputs": [
        {
          "output_type": "stream",
          "text": [
            "실제 출력 : 0.5017388815502476\n",
            "에러(기대 출력(0) - 실제 출력) : -0.5017388815502476\n"
          ],
          "name": "stdout"
        }
      ]
    },
    {
      "cell_type": "markdown",
      "metadata": {
        "id": "9ABKkOXoD7Kw",
        "colab_type": "text"
      },
      "source": [
        "# 경사 하강법 활용 w = w + 입력 * 학습률 * 에러 (학습률 : w를 업데이트 하는 정도)"
      ]
    },
    {
      "cell_type": "code",
      "metadata": {
        "id": "3peeoRLgGGN7",
        "colab_type": "code",
        "colab": {
          "base_uri": "https://localhost:8080/",
          "height": 917
        },
        "outputId": "cf1412ea-4940-414c-cf15-5b4c5aebea10"
      },
      "source": [
        "for i in range(5000):\n",
        "  output = sigmoid(x * w)\n",
        "  error = y - output\n",
        "  w = w + x * 0.1 * error\n",
        "\n",
        "  if i % 100 == 99:\n",
        "    print(i, error, output)"
      ],
      "execution_count": null,
      "outputs": [
        {
          "output_type": "stream",
          "text": [
            "99 -0.10212199918154194 0.10212199918154194\n",
            "199 -0.05234654694974143 0.05234654694974143\n",
            "299 -0.03484493952035447 0.03484493952035447\n",
            "399 -0.02603318946440947 0.02603318946440947\n",
            "499 -0.020750476191181855 0.020750476191181855\n",
            "599 -0.017237849311251406 0.017237849311251406\n",
            "699 -0.014736123619364515 0.014736123619364515\n",
            "799 -0.012865098083539963 0.012865098083539963\n",
            "899 -0.011413630174055271 0.011413630174055271\n",
            "999 -0.010255162742259244 0.010255162742259244\n",
            "1099 -0.00930932232939592 0.00930932232939592\n",
            "1199 -0.008522650044707866 0.008522650044707866\n",
            "1299 -0.007858145277918043 0.007858145277918043\n",
            "1399 -0.00728946058446925 0.00728946058446925\n",
            "1499 -0.006797306204295395 0.006797306204295395\n",
            "1599 -0.006367204879978169 0.006367204879978169\n",
            "1699 -0.005988158525637608 0.005988158525637608\n",
            "1799 -0.005651603285833723 0.005651603285833723\n",
            "1899 -0.0053507727243645295 0.0053507727243645295\n",
            "1999 -0.005080290059449737 0.005080290059449737\n",
            "2099 -0.0048357691662370495 0.0048357691662370495\n",
            "2199 -0.004613663139299709 0.004613663139299709\n",
            "2299 -0.004411024156179106 0.004411024156179106\n",
            "2399 -0.004225403523491199 0.004225403523491199\n",
            "2499 -0.004054748072909437 0.004054748072909437\n",
            "2599 -0.003897315321825758 0.003897315321825758\n",
            "2699 -0.0037516335602913254 0.0037516335602913254\n",
            "2799 -0.0036164342585153796 0.0036164342585153796\n",
            "2899 -0.0034906236145836934 0.0034906236145836934\n",
            "2999 -0.003373261909769416 0.003373261909769416\n",
            "3099 -0.0032635227452903585 0.0032635227452903585\n",
            "3199 -0.003160687825842435 0.003160687825842435\n",
            "3299 -0.003064123223886419 0.003064123223886419\n",
            "3399 -0.0029732806294846927 0.0029732806294846927\n",
            "3499 -0.0028876582265072396 0.0028876582265072396\n",
            "3599 -0.002806827903706964 0.002806827903706964\n",
            "3699 -0.0027303915898601993 0.0027303915898601993\n",
            "3799 -0.0026580012154417175 0.0026580012154417175\n",
            "3899 -0.002589348345703381 0.002589348345703381\n",
            "3999 -0.0025241480480530224 0.0025241480480530224\n",
            "4099 -0.0024621472797601114 0.0024621472797601114\n",
            "4199 -0.0024031182683253148 0.0024031182683253148\n",
            "4299 -0.0023468482816605195 0.0023468482816605195\n",
            "4399 -0.0022931514667567164 0.0022931514667567164\n",
            "4499 -0.0022418534532565476 0.0022418534532565476\n",
            "4599 -0.0021927987965693657 0.0021927987965693657\n",
            "4699 -0.0021458431354016818 0.0021458431354016818\n",
            "4799 -0.002100852299940807 0.002100852299940807\n",
            "4899 -0.0020577093359125808 0.0020577093359125808\n",
            "4999 -0.0020163005091794707 0.0020163005091794707\n"
          ],
          "name": "stdout"
        }
      ]
    },
    {
      "cell_type": "markdown",
      "metadata": {
        "id": "H1-EZRlGfADx",
        "colab_type": "text"
      },
      "source": [
        "# 입력 0 -> 출력 1 by 경사 하강법"
      ]
    },
    {
      "cell_type": "code",
      "metadata": {
        "id": "IBpThiuhfKLT",
        "colab_type": "code",
        "colab": {
          "base_uri": "https://localhost:8080/",
          "height": 197
        },
        "outputId": "8e9a88d4-3a1d-43e5-bfe6-76888c53154a"
      },
      "source": [
        "x = 0\n",
        "y = 1\n",
        "w = tf.random.normal([1],0,1)\n",
        "\n",
        "for i in range(1000):\n",
        "  output = sigmoid(x * w)\n",
        "  error = y - output\n",
        "  w = w + x * 0.1 * error\n",
        "\n",
        "  if i % 100 == 99:\n",
        "    print(i, error, output)"
      ],
      "execution_count": null,
      "outputs": [
        {
          "output_type": "stream",
          "text": [
            "99 0.5 0.5\n",
            "199 0.5 0.5\n",
            "299 0.5 0.5\n",
            "399 0.5 0.5\n",
            "499 0.5 0.5\n",
            "599 0.5 0.5\n",
            "699 0.5 0.5\n",
            "799 0.5 0.5\n",
            "899 0.5 0.5\n",
            "999 0.5 0.5\n"
          ],
          "name": "stdout"
        }
      ]
    },
    {
      "cell_type": "markdown",
      "metadata": {
        "id": "2jkVAyVVfyZi",
        "colab_type": "text"
      },
      "source": [
        "- 출력이 0.5에서 변하지 않는다. 입력이 0 이므로 경사 하강법의 식에따라 1000번의 실행동안 w값은 변하지 않는다"
      ]
    },
    {
      "cell_type": "markdown",
      "metadata": {
        "id": "ExauaMqHgMq1",
        "colab_type": "text"
      },
      "source": [
        "# 편향(const 같은 개념)"
      ]
    },
    {
      "cell_type": "code",
      "metadata": {
        "id": "yXQysjQ6gWbk",
        "colab_type": "code",
        "colab": {
          "base_uri": "https://localhost:8080/",
          "height": 197
        },
        "outputId": "3ff6448a-f17f-465d-c2b8-7c9240132ea5"
      },
      "source": [
        "x = 0\n",
        "y = 1\n",
        "w = tf.random.normal([1],0,1)\n",
        "\n",
        "# 편향 b\n",
        "b = tf.random.normal([1],0,1)\n",
        "\n",
        "for i in range(1000):\n",
        "  output = sigmoid(x * w + 1 * b)\n",
        "  error = y - output\n",
        "  w = w + x * 0.1 * error\n",
        "  b = b + 1 * 0.1 * error\n",
        "\n",
        "  if i % 100 == 99:\n",
        "    print(i, error, output)"
      ],
      "execution_count": null,
      "outputs": [
        {
          "output_type": "stream",
          "text": [
            "99 0.10752340337073574 0.8924765966292643\n",
            "199 0.05380889241742415 0.9461911075825759\n",
            "299 0.035498745628444905 0.9645012543715551\n",
            "399 0.026399671136648872 0.9736003288633511\n",
            "499 0.020983916743011144 0.9790160832569889\n",
            "599 0.017399200654773184 0.9826007993452268\n",
            "699 0.014854198169924837 0.9851458018300752\n",
            "799 0.012955182715670088 0.9870448172843299\n",
            "899 0.011484609462896422 0.9885153905371036\n",
            "999 0.010312518756825817 0.9896874812431742\n"
          ],
          "name": "stdout"
        }
      ]
    },
    {
      "cell_type": "markdown",
      "metadata": {
        "id": "VriTxU71iRXb",
        "colab_type": "text"
      },
      "source": [
        "# 신경망 네트워크 구현: AND"
      ]
    },
    {
      "cell_type": "code",
      "metadata": {
        "id": "kkYg7Q6LiXwF",
        "colab_type": "code",
        "colab": {
          "base_uri": "https://localhost:8080/",
          "height": 305
        },
        "outputId": "b07cdb33-9d98-4e15-a7fa-573de19cf624"
      },
      "source": [
        "import numpy as np\n",
        "x = np.array([[1,1], [1,0], [0,1], [0,0]])\n",
        "y = np.array([[1], [0], [0], [0]])\n",
        "w = tf.random.normal([2],0,1)\n",
        "b = tf.random.normal([1],0,1)\n",
        "b_x = 1\n",
        "\n",
        "for i in range(2000):\n",
        "  error_sum = 0\n",
        "  \n",
        "  for j in range(4):\n",
        "    output = sigmoid(np.sum(x[j]*w)+b_x*b)\n",
        "    error = y[j][0] - output\n",
        "    w = w + x[j] * 0.1 * error\n",
        "    b = b + b_x * 0.1 * error\n",
        "    error_sum += error\n",
        "\n",
        "  if i % 200 == 199:\n",
        "    print(i, error_sum)\n",
        "\n",
        "# test of AND network\n",
        "print('\\n테스트')\n",
        "for i in range(4):\n",
        "  print('X:',x[i], 'Y:', y[i], 'Output:',sigmoid(np.sum(x[i]*w)+b))"
      ],
      "execution_count": null,
      "outputs": [
        {
          "output_type": "stream",
          "text": [
            "199 -0.11778863455094749\n",
            "399 -0.06826431436627693\n",
            "599 -0.047971227788960756\n",
            "799 -0.03686729632975872\n",
            "999 -0.02988061660551168\n",
            "1199 -0.025090442236432066\n",
            "1399 -0.021606065177641798\n",
            "1599 -0.018962400631874054\n",
            "1799 -0.016886546950081006\n",
            "1999 -0.015217510158226739\n",
            "\n",
            "테스트\n",
            "X: [1 1] Y: [1] Output: 0.9644741020182622\n",
            "X: [1 0] Y: [0] Output: 0.02517286169707915\n",
            "X: [0 1] Y: [0] Output: 0.025250721509681374\n",
            "X: [0 0] Y: [0] Output: 2.463937238932992e-05\n"
          ],
          "name": "stdout"
        }
      ]
    }
  ]
}