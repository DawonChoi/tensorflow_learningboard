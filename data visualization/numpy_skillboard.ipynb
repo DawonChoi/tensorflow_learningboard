{
  "nbformat": 4,
  "nbformat_minor": 0,
  "metadata": {
    "colab": {
      "name": "numpy_skillboard.ipynb",
      "provenance": [],
      "collapsed_sections": [],
      "include_colab_link": true
    },
    "kernelspec": {
      "name": "python3",
      "display_name": "Python 3"
    }
  },
  "cells": [
    {
      "cell_type": "markdown",
      "metadata": {
        "id": "view-in-github",
        "colab_type": "text"
      },
      "source": [
        "<a href=\"https://colab.research.google.com/github/DawonChoi/tensorflow_learningboard/blob/master/data%20visualization/numpy_skillboard.ipynb\" target=\"_parent\"><img src=\"https://colab.research.google.com/assets/colab-badge.svg\" alt=\"Open In Colab\"/></a>"
      ]
    },
    {
      "cell_type": "code",
      "metadata": {
        "id": "Z2JQ-aFClEnt",
        "colab_type": "code",
        "colab": {
          "base_uri": "https://localhost:8080/",
          "height": 298
        },
        "outputId": "6e0839f7-fe85-4ff4-dbde-78b20afb7274"
      },
      "source": [
        "import numpy as np\n",
        "\n",
        "array1 = np.arange(16).reshape(4,4)\n",
        "print(array1)\n",
        "\n",
        "#broadcasting\n",
        "array_add = np.array([0,1,2,3]).reshape(4, 1)\n",
        "array1 += array_add\n",
        "print(array1)\n",
        "\n",
        "#masking\n",
        "array2 = array1 < 10\n",
        "print(array2)\n",
        "array1[array2] = 100\n",
        "print(array1)\n"
      ],
      "execution_count": null,
      "outputs": [
        {
          "output_type": "stream",
          "text": [
            "[[ 0  1  2  3]\n",
            " [ 4  5  6  7]\n",
            " [ 8  9 10 11]\n",
            " [12 13 14 15]]\n",
            "[[ 0  1  2  3]\n",
            " [ 5  6  7  8]\n",
            " [10 11 12 13]\n",
            " [15 16 17 18]]\n",
            "[[ True  True  True  True]\n",
            " [ True  True  True  True]\n",
            " [False False False False]\n",
            " [False False False False]]\n",
            "[[100 100 100 100]\n",
            " [100 100 100 100]\n",
            " [ 10  11  12  13]\n",
            " [ 15  16  17  18]]\n"
          ],
          "name": "stdout"
        }
      ]
    }
  ]
}